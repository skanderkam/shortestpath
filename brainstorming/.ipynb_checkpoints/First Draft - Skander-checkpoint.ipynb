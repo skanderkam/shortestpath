{
 "cells": [
  {
   "cell_type": "code",
   "execution_count": 1,
   "metadata": {},
   "outputs": [],
   "source": [
    "import numpy as np\n",
    "import pandas as pd"
   ]
  },
  {
   "cell_type": "markdown",
   "metadata": {},
   "source": [
    "## Exploring the graph data given"
   ]
  },
  {
   "cell_type": "code",
   "execution_count": 2,
   "metadata": {},
   "outputs": [],
   "source": [
    "graph = pd.read_csv('graph.txt', header = None, sep=\"\\t\")\n",
    "graph.columns = [\"depart_node\", \"distance\", \"arrive_node\", \"arrive_node_2\"]\n",
    "values = {}\n",
    "\n",
    "for ind in range(len(graph)):\n",
    "    value = graph.depart_node.values[ind]\n",
    "    if value not in values:\n",
    "        values[value] = []\n",
    "    values[value].append(graph.arrive_node.values[ind])"
   ]
  },
  {
   "cell_type": "markdown",
   "metadata": {},
   "source": [
    "## Test for the initial algorithm"
   ]
  },
  {
   "cell_type": "code",
   "execution_count": 3,
   "metadata": {},
   "outputs": [
    {
     "data": {
      "text/plain": [
       "[('A', 1, 'B'),\n",
       " ('A', 2, 'C'),\n",
       " ('B', 1, 'D'),\n",
       " ('C', 2, 'E'),\n",
       " ('C', 3, 'D'),\n",
       " ('B', 3, 'E')]"
      ]
     },
     "execution_count": 3,
     "metadata": {},
     "output_type": "execute_result"
    }
   ],
   "source": [
    "graph = [(\"A\", 1, \"B\"), (\"A\", 2, \"C\"), (\"B\", 1, \"D\"), (\"C\", 2, \"E\"), (\"C\", 3, \"D\"), (\"B\", 3, \"E\")]\n",
    "unvisited_nodes = [\"A\", \"B\", \"C\", \"D\", \"E\"]\n",
    "a = float('inf')\n",
    "graph"
   ]
  },
  {
   "cell_type": "code",
   "execution_count": 4,
   "metadata": {},
   "outputs": [
    {
     "name": "stdout",
     "output_type": "stream",
     "text": [
      "['A', [0, [('B', 1), ('C', 2)], '']]\n",
      "['B', [inf, [('D', 1), ('E', 3)], '']]\n",
      "['C', [inf, [('E', 2), ('D', 3)], '']]\n"
     ]
    }
   ],
   "source": [
    "## Initialization Map Reduce\n",
    "Output = []\n",
    "Start_point = 'A'\n",
    "\n",
    "# Initialization Map\n",
    "output_map = []\n",
    "for line in graph:\n",
    "    dist = float('inf')\n",
    "    if line[0] == Start_point:\n",
    "        dist = 0\n",
    "    output_map.append([line[0], dist, [line[2], line[1]], \"\"])\n",
    "    \n",
    "#print(output_map)\n",
    "\n",
    "# S&S\n",
    "output_SS = [['A', [0, [('B',1), ('C',2)], '']],\n",
    "    ['B', [float('inf'), [('D',1), ('E',3)], '']],\n",
    "    ['C', [float('inf'), [('E',2), ('D',3)], '']],\n",
    "]\n",
    "\n",
    "# Initialization Reducer\n",
    "for line in output_SS:\n",
    "    print(line) "
   ]
  },
  {
   "cell_type": "code",
   "execution_count": 5,
   "metadata": {},
   "outputs": [
    {
     "name": "stdout",
     "output_type": "stream",
     "text": [
      "['A', 0, [('B', 1), ('C', 2)], '']\n",
      "['B', 1, [('D', 1), ('E', 3)], 'A']\n",
      "['C', 2, [('E', 2), ('D', 3)], 'A']\n"
     ]
    }
   ],
   "source": [
    "## Iterative Map Reduce\n",
    "\n",
    "# Map\n",
    "for line in output_SS:\n",
    "    #print(line)\n",
    "    if line[0] == Start_point:\n",
    "        for neighbor in line[1][1]:\n",
    "            node = neighbor[0]\n",
    "            dist = line[1][0] + neighbor[1]\n",
    "            #print([node, [dist, '', line[1][2] + line[0]]])\n",
    "\n",
    "# S&S\n",
    "output_SS2 = [\n",
    "    ['A', [[0, [('B',1), ('C',2)], '']]],\n",
    "    ['B', [[float('inf'), [('D',1), ('E',3)], ''], [1, '', 'A']]],\n",
    "    ['C', [[float('inf'), [('E',2), ('D',3)], ''], [2, '', 'A']]],\n",
    "]\n",
    "\n",
    "#print(output_SS2)\n",
    "\n",
    "# Reduce\n",
    "for line in output_SS2:\n",
    "    dist = float('inf')\n",
    "    path = ''\n",
    "    neighbors = []\n",
    "    for element in line[1]:\n",
    "        if element[0] < dist:\n",
    "            dist = element[0]\n",
    "            path = element[2]\n",
    "        if element[1] != '':\n",
    "            neighbors = element[1]\n",
    "    print([line[0], dist, neighbors, path])"
   ]
  },
  {
   "cell_type": "markdown",
   "metadata": {},
   "source": [
    "TO DO : waitlist for the neighbors"
   ]
  }
 ],
 "metadata": {
  "kernelspec": {
   "display_name": "Python 3",
   "language": "python",
   "name": "python3"
  },
  "language_info": {
   "codemirror_mode": {
    "name": "ipython",
    "version": 3
   },
   "file_extension": ".py",
   "mimetype": "text/x-python",
   "name": "python",
   "nbconvert_exporter": "python",
   "pygments_lexer": "ipython3",
   "version": "3.7.1"
  }
 },
 "nbformat": 4,
 "nbformat_minor": 2
}
