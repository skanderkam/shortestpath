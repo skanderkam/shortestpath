{
 "cells": [
  {
   "cell_type": "markdown",
   "metadata": {},
   "source": [
    "# Pre-processing"
   ]
  },
  {
   "cell_type": "code",
   "execution_count": null,
   "metadata": {},
   "outputs": [],
   "source": [
    "####################################\n",
    "##        ACTION RECQUIRED        ##\n",
    "####################################\n",
    "\n",
    "# Update the following line with the starting and ending nodes of your choice:\n",
    "start_node, end_node = 50, 10\n",
    "\n",
    "####################################\n",
    "##    END OF ACTION RECQUIRED     ##\n",
    "####################################\n",
    "\n",
    "\n",
    "# Defining custom functions\n",
    "def formatInput(raw_file):\n",
    "    ## Creating key-value pairs: key = node A ; value = (node B, distance from A to B)\n",
    "    file = raw_file.map(lambda x: (x.split('\\t')[0], (x.split('\\t')[2], x.split('\\t')[1])))\n",
    "    \n",
    "    ## Grouping by key\n",
    "    file = file.groupByKey()\n",
    "    \n",
    "    ## Adding the distance (1) and the path (2)\n",
    "    file = file.map(lambda x: (x[0], \n",
    "                               0 if x[0] == str(start_node) else float('inf'), ##(1)\n",
    "                               list(x[1]),\n",
    "                               \" \")) ## (2)\n",
    "    return file\n",
    "\n",
    "\n",
    "# Transforming our file\n",
    "file = sc.textFile(\"../data/graph.txt\")\n",
    "file = formatInput(file)\n",
    "sc._jsc.hadoopConfiguration().set('mapreduce.fileoutputcommitter.marksuccessfuljobs', 'false') # Preventing \"SUCCESS\" file to be created when writting a text file\n",
    "try:\n",
    "    file.coalesce(1).saveAsTextFile(\"input\")\n",
    "except:\n",
    "    print('Error: \"Input\" directory already exists. You need to remove it.')"
   ]
  },
  {
   "cell_type": "markdown",
   "metadata": {},
   "source": [
    "**Example of output after transformation:**\n",
    "\n",
    "<u>for \"file.take(2)\"</u>: [('4', inf, [('274', '5247'), ('766', '3762'), ('74', '8870'), ('23', '2656'), ('762', '5391'), ('142', '3150'), ('782', '5363'), ('394', '5098')], ' '), ('64', inf, [('5', '1007'), ('314', '2250'), ('314', '1541'), ('446', \n",
    "'7225'), ('11', '180'), ('751', '3919'), ('17', '9480'), ('508', '6730'), ('320', '9639'), ('58', '8591')], ' ')]"
   ]
  }
 ],
 "metadata": {
  "kernelspec": {
   "display_name": "Python 3",
   "language": "python",
   "name": "python3"
  },
  "language_info": {
   "codemirror_mode": {
    "name": "ipython",
    "version": 3
   },
   "file_extension": ".py",
   "mimetype": "text/x-python",
   "name": "python",
   "nbconvert_exporter": "python",
   "pygments_lexer": "ipython3",
   "version": "3.7.1"
  }
 },
 "nbformat": 4,
 "nbformat_minor": 2
}
