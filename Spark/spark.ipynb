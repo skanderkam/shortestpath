{
 "cells": [
  {
   "cell_type": "markdown",
   "metadata": {},
   "source": [
    "# Pre-processing"
   ]
  },
  {
   "cell_type": "code",
   "execution_count": null,
   "metadata": {},
   "outputs": [],
   "source": [
    "####################################\n",
    "##        ACTION REQUIRED         ##\n",
    "####################################\n",
    "\n",
    "# Update the following line with the starting and ending nodes of your choice:\n",
    "\n",
    "start_node, end_node = 50, 823\n",
    "\n",
    "####################################\n",
    "##    END OF ACTION REQUIRED      ##\n",
    "####################################\n",
    "\n",
    "# Configurating Hadoop\n",
    "\n",
    "sc._jsc.hadoopConfiguration().set('mapreduce.fileoutputcommitter.marksuccessfuljobs', 'false') # Preventing \"SUCCESS\" file to be created when writting a text file\n",
    "\n",
    "\n",
    "# Defining custom functions\n",
    "\n",
    "def formatInput(raw_file):\n",
    "    ## Creating key-value pairs: key = node A ; value = (node B, distance from A to B)\n",
    "    file = raw_file.map(lambda x: (x.split('\\t')[0], (x.split('\\t')[2], x.split('\\t')[1])))\n",
    "    \n",
    "    ## Grouping by key\n",
    "    file = file.groupByKey()\n",
    "    \n",
    "    ## Adding the distance (1) and the path (2)\n",
    "    file = file.map(lambda x: (x[0], \n",
    "                               0 if x[0] == str(start_node) else float('inf'), ##(1)\n",
    "                               list(x[1]),\n",
    "                               \" \")) ## (2)\n",
    "    return file\n",
    "\n",
    "\n",
    "def checkExistence(file, start_node, end_node):\n",
    "    start_node_exists = not file.filter(lambda x: str(start_node) == x[0]).isEmpty()\n",
    "    end_node_exists = not file.map(lambda xs: sum([1 if  x == str(end_node) else 0 for x in xs])).filter(lambda x: x!=0).isEmpty()\n",
    "    return start_node_exists, end_node_exists\n",
    "\n",
    "\n",
    "\n",
    "# Transforming our file\n",
    "\n",
    "file = sc.textFile(\"../data/graph.txt\")\n",
    "file = formatInput(file)\n",
    "input_nodes_exist = checkExistence(file, start_node, end_node)\n",
    "\n",
    "if input_nodes_exist[0] & input_nodes_exist[1]: # both starting and ending nodes exist\n",
    "    try:\n",
    "        file.coalesce(1).saveAsTextFile(\"input\") # saving the new text file\n",
    "    except:\n",
    "        print('Error: \"Input\" directory already exists. You need to remove it.')\n",
    "elif input_nodes_exist[0]:\n",
    "    print(\"Your ending node does not exist\")\n",
    "else:\n",
    "    print(\"Your starting node does not exist\")"
   ]
  }
 ],
 "metadata": {
  "kernelspec": {
   "display_name": "Python 3",
   "language": "python",
   "name": "python3"
  },
  "language_info": {
   "codemirror_mode": {
    "name": "ipython",
    "version": 3
   },
   "file_extension": ".py",
   "mimetype": "text/x-python",
   "name": "python",
   "nbconvert_exporter": "python",
   "pygments_lexer": "ipython3",
   "version": "3.7.1"
  }
 },
 "nbformat": 4,
 "nbformat_minor": 2
}
